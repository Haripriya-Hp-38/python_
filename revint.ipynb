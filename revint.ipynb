{
  "nbformat": 4,
  "nbformat_minor": 0,
  "metadata": {
    "colab": {
      "provenance": [],
      "authorship_tag": "ABX9TyNyKPudP9NHZOajYfFgEGaq",
      "include_colab_link": true
    },
    "kernelspec": {
      "name": "python3",
      "display_name": "Python 3"
    },
    "language_info": {
      "name": "python"
    }
  },
  "cells": [
    {
      "cell_type": "markdown",
      "metadata": {
        "id": "view-in-github",
        "colab_type": "text"
      },
      "source": [
        "<a href=\"https://colab.research.google.com/github/Haripriya-Hp-38/python_/blob/main/python.ipynb\" target=\"_parent\"><img src=\"https://colab.research.google.com/assets/colab-badge.svg\" alt=\"Open In Colab\"/></a>"
      ]
    },
    {
      "cell_type": "code",
      "execution_count": null,
      "metadata": {
        "colab": {
          "base_uri": "https://localhost:8080/"
        },
        "id": "9IfSbuaPFUIW",
        "outputId": "23b0300b-3455-4f1e-bca8-1c08158f9fb1"
      },
      "outputs": [
        {
          "output_type": "stream",
          "name": "stdout",
          "text": [
            "Enter a number: 5\n",
            "Palindrome\n"
          ]
        }
      ],
      "source": [
        "x = int(input(\"Enter a number: \"))\n",
        "\n",
        "temp = x\n",
        "rev = 0\n",
        "\n",
        "while x > 0:\n",
        "    digit = x % 10\n",
        "    rev = rev * 10 + digit\n",
        "    x = x // 10\n",
        "\n",
        "if temp == rev:\n",
        "    print(\"Palindrome\")\n",
        "else:\n",
        "    print(\"Not Palindrome\")"
      ]
    },
    {
      "cell_type": "code",
      "source": [
        "x = int(input(\"Enter a number: \"))\n",
        "\n",
        "if x <= 1:\n",
        "    print(\"Not Prime\")\n",
        "else:\n",
        "    count = 0\n",
        "    for i in range(2, x):\n",
        "        if x % i == 0:\n",
        "            count = 1\n",
        "            break\n",
        "    if count == 0:\n",
        "        print(\"Prime\")\n",
        "    else:\n",
        "        print(\"Not Prime\")"
      ],
      "metadata": {
        "colab": {
          "base_uri": "https://localhost:8080/"
        },
        "id": "9E9E1Ti0Fefc",
        "outputId": "35692478-b0a4-49e2-af7d-8301ce886b80"
      },
      "execution_count": null,
      "outputs": [
        {
          "output_type": "stream",
          "name": "stdout",
          "text": [
            "Enter a number: 10\n",
            "Not Prime\n"
          ]
        }
      ]
    },
    {
      "cell_type": "code",
      "source": [
        "x = int(input(\"Enter a number: \"))\n",
        "\n",
        "rev = 0\n",
        "while x != 0:\n",
        "    digit = x % 10\n",
        "    rev = rev * 10 + digit\n",
        "    x = x // 10\n",
        "\n",
        "print(\"Reversed number:\", rev)"
      ],
      "metadata": {
        "colab": {
          "base_uri": "https://localhost:8080/"
        },
        "id": "dtfBp9StFoHg",
        "outputId": "281df5e4-c5c5-47c5-84d9-6e81486c2daf"
      },
      "execution_count": null,
      "outputs": [
        {
          "output_type": "stream",
          "name": "stdout",
          "text": [
            "Enter a number: 38256\n",
            "Reversed number: 65283\n"
          ]
        }
      ]
    }
  ]
}
