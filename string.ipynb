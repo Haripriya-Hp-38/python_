{
  "nbformat": 4,
  "nbformat_minor": 0,
  "metadata": {
    "colab": {
      "provenance": [],
      "authorship_tag": "ABX9TyOeTfgpILzQP83QLEBsvqse",
      "include_colab_link": true
    },
    "kernelspec": {
      "name": "python3",
      "display_name": "Python 3"
    },
    "language_info": {
      "name": "python"
    }
  },
  "cells": [
    {
      "cell_type": "markdown",
      "metadata": {
        "id": "view-in-github",
        "colab_type": "text"
      },
      "source": [
        "<a href=\"https://colab.research.google.com/github/Haripriya-Hp-38/python_/blob/main/python1.ipynb\" target=\"_parent\"><img src=\"https://colab.research.google.com/assets/colab-badge.svg\" alt=\"Open In Colab\"/></a>"
      ]
    },
    {
      "cell_type": "code",
      "execution_count": null,
      "metadata": {
        "colab": {
          "base_uri": "https://localhost:8080/"
        },
        "id": "ULuVatx2TWIS",
        "outputId": "efa0b5cb-b778-4457-9267-29691dfcd513"
      },
      "outputs": [
        {
          "output_type": "stream",
          "name": "stdout",
          "text": [
            "VGLUG\n",
            "VGLUG\n",
            "Vglug\n"
          ]
        }
      ],
      "source": [
        "text='vglug'\n",
        "text1=\"VGLUG\"\n",
        "text2=\"\"\"Vglug\"\"\" #multiline string\n",
        "print(text1)\n",
        "print(text1)\n",
        "print(text2)"
      ]
    },
    {
      "cell_type": "code",
      "source": [
        "text='vglug'\n",
        "print(len(text))"
      ],
      "metadata": {
        "colab": {
          "base_uri": "https://localhost:8080/"
        },
        "id": "T3sV2r0ZUARV",
        "outputId": "2cb9d4f7-31f3-4ee8-95d4-2669b3e75bad"
      },
      "execution_count": null,
      "outputs": [
        {
          "output_type": "stream",
          "name": "stdout",
          "text": [
            "5\n"
          ]
        }
      ]
    },
    {
      "cell_type": "code",
      "source": [
        "n=\"have a good day\"\n",
        "print(len(n))\n",
        "print(n[4])"
      ],
      "metadata": {
        "colab": {
          "base_uri": "https://localhost:8080/"
        },
        "id": "ulgrbs64UMYo",
        "outputId": "0385c587-5fa9-421f-fe05-f1c97ec16d8b"
      },
      "execution_count": null,
      "outputs": [
        {
          "output_type": "stream",
          "name": "stdout",
          "text": [
            "15\n",
            "a\n"
          ]
        }
      ]
    },
    {
      "cell_type": "code",
      "source": [
        "text=\"python programming\"\n",
        "print(text.upper())\n",
        "print(text.title())\n",
        "print(text.capitalize())\n",
        "print(text.isalnum())\n",
        "print(text.isdigit())"
      ],
      "metadata": {
        "colab": {
          "base_uri": "https://localhost:8080/"
        },
        "id": "e-on56XoXaos",
        "outputId": "81faf1fa-16f5-4742-fdce-30921ec6fe34"
      },
      "execution_count": 1,
      "outputs": [
        {
          "output_type": "stream",
          "name": "stdout",
          "text": [
            "PYTHON PROGRAMMING\n",
            "Python Programming\n",
            "Python programming\n",
            "False\n",
            "False\n"
          ]
        }
      ]
    },
    {
      "cell_type": "code",
      "source": [
        "text=\"hello123\"\n",
        "print(text.isalnum())"
      ],
      "metadata": {
        "colab": {
          "base_uri": "https://localhost:8080/"
        },
        "id": "-vVfVyD3XanY",
        "outputId": "643fdfb5-7705-4644-d066-f8f5f7073e43"
      },
      "execution_count": 2,
      "outputs": [
        {
          "output_type": "stream",
          "name": "stdout",
          "text": [
            "True\n"
          ]
        }
      ]
    },
    {
      "cell_type": "code",
      "source": [
        "#removing space\n",
        "text=\"  vglug  \"\n",
        "print(text)\n",
        "a=\"    python\"\n",
        "print(a)\n",
        "b=\"PYTHON   \"\n",
        "print(b)\n",
        "print(text.strip())#remove overall space\n",
        "print(a.lstrip())#remove left space\n",
        "print(b.rstrip())#remove right space"
      ],
      "metadata": {
        "colab": {
          "base_uri": "https://localhost:8080/"
        },
        "id": "bgPuMriSYMgN",
        "outputId": "155be4f4-4abe-448f-cd1b-957846fc5a33"
      },
      "execution_count": 4,
      "outputs": [
        {
          "output_type": "stream",
          "name": "stdout",
          "text": [
            "  vglug  \n",
            "    python\n",
            "PYTHON   \n",
            "vglug\n",
            "python\n",
            "PYTHON\n"
          ]
        }
      ]
    },
    {
      "cell_type": "code",
      "source": [
        "#replacing a characters\n",
        "a = \"I love Python \"\n",
        "print(a.replace(\"Python \", \"Java\"))"
      ],
      "metadata": {
        "colab": {
          "base_uri": "https://localhost:8080/"
        },
        "id": "9fMMgs8SYMeu",
        "outputId": "4eed91e4-5b58-499b-a537-e402a30aa6e0"
      },
      "execution_count": 21,
      "outputs": [
        {
          "output_type": "stream",
          "name": "stdout",
          "text": [
            "I love Java\n"
          ]
        }
      ]
    },
    {
      "cell_type": "code",
      "source": [
        "#split\n",
        "a=\"I,love,Python\"\n",
        "print(a.split(\",\"))"
      ],
      "metadata": {
        "colab": {
          "base_uri": "https://localhost:8080/"
        },
        "id": "-HYD8ujwaKn8",
        "outputId": "03174362-bf72-4645-c5e2-81007b17babf"
      },
      "execution_count": 33,
      "outputs": [
        {
          "output_type": "stream",
          "name": "stdout",
          "text": [
            "['I', 'love', 'Python']\n"
          ]
        }
      ]
    },
    {
      "cell_type": "code",
      "source": [
        "a=\"Hello world\"\n",
        "print(a[4])\n",
        "print(a[1:7])\n",
        "print(a[0:])\n",
        "print(a[:8])"
      ],
      "metadata": {
        "colab": {
          "base_uri": "https://localhost:8080/"
        },
        "id": "mNBeEragdlRc",
        "outputId": "cf10b21b-fd42-4af0-d828-826bd37b7739"
      },
      "execution_count": 34,
      "outputs": [
        {
          "output_type": "stream",
          "name": "stdout",
          "text": [
            "o\n",
            "ello w\n",
            "Hello world\n",
            "Hello wo\n"
          ]
        }
      ]
    },
    {
      "cell_type": "code",
      "source": [
        "#negative indexing\n",
        "print(a[-8:-3])"
      ],
      "metadata": {
        "colab": {
          "base_uri": "https://localhost:8080/"
        },
        "id": "ii-FhJild6qW",
        "outputId": "9f12d656-828d-418e-edb2-e0e25ba5c84e"
      },
      "execution_count": 35,
      "outputs": [
        {
          "output_type": "stream",
          "name": "stdout",
          "text": [
            "lo wo\n"
          ]
        }
      ]
    },
    {
      "cell_type": "code",
      "source": [
        "text=\"I love \\\"python\\\" programming\"\n",
        "print(text)"
      ],
      "metadata": {
        "colab": {
          "base_uri": "https://localhost:8080/"
        },
        "id": "5j722Pv9eQEI",
        "outputId": "75494168-ad40-4d58-f0a4-3ae3cab32f98"
      },
      "execution_count": 36,
      "outputs": [
        {
          "output_type": "stream",
          "name": "stdout",
          "text": [
            "I love \"python\" programming\n"
          ]
        }
      ]
    },
    {
      "cell_type": "code",
      "source": [
        "n='i love \"java\"'\n",
        "print(n)"
      ],
      "metadata": {
        "colab": {
          "base_uri": "https://localhost:8080/"
        },
        "id": "Vzhu7rZreQC5",
        "outputId": "e4ac4340-345b-4eca-98fa-cfbaaeb39e3f"
      },
      "execution_count": 37,
      "outputs": [
        {
          "output_type": "stream",
          "name": "stdout",
          "text": [
            "i love \"java\"\n"
          ]
        }
      ]
    },
    {
      "cell_type": "code",
      "source": [
        "#string formating\n",
        "name=\"Haripriya\"\n",
        "age=19\n",
        "print(f\"My name is {name},I am {age} years old\")"
      ],
      "metadata": {
        "colab": {
          "base_uri": "https://localhost:8080/"
        },
        "id": "QQg6H0M7eype",
        "outputId": "2375645a-60d3-44aa-bd8a-ede1095ec318"
      },
      "execution_count": 38,
      "outputs": [
        {
          "output_type": "stream",
          "name": "stdout",
          "text": [
            "My name is Haripriya,I am 19 years old\n"
          ]
        }
      ]
    },
    {
      "cell_type": "code",
      "source": [
        "#.format()\n",
        "print(\"My name is {},I am {} years old\".format(name,age))"
      ],
      "metadata": {
        "colab": {
          "base_uri": "https://localhost:8080/"
        },
        "id": "upVdBaV-fekD",
        "outputId": "7553582a-ec60-4469-c48a-470f1edf43c9"
      },
      "execution_count": 41,
      "outputs": [
        {
          "output_type": "stream",
          "name": "stdout",
          "text": [
            "My name is Haripriya,I am 19 years old\n"
          ]
        }
      ]
    },
    {
      "cell_type": "code",
      "source": [
        "#old method\n",
        "print(\"My name is %s ,I am %d years old\"%(name,age))"
      ],
      "metadata": {
        "colab": {
          "base_uri": "https://localhost:8080/"
        },
        "id": "RPHOUcnwfeiu",
        "outputId": "932a371e-bb99-4e70-ffe5-8a8ba146f2f5"
      },
      "execution_count": 42,
      "outputs": [
        {
          "output_type": "stream",
          "name": "stdout",
          "text": [
            "My name is Haripriya ,I am 19 years old\n"
          ]
        }
      ]
    }
  ]
}
